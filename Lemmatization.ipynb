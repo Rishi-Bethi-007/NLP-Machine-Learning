{
 "cells": [
  {
   "cell_type": "markdown",
   "id": "c9904762",
   "metadata": {},
   "source": [
    "## Lemmatization"
   ]
  },
  {
   "cell_type": "markdown",
   "id": "4d8738ea",
   "metadata": {},
   "source": [
    "### WordNetLemmatizer"
   ]
  },
  {
   "cell_type": "code",
   "execution_count": 28,
   "id": "283b3bee",
   "metadata": {},
   "outputs": [],
   "source": [
    "##Q&A, ChatBOts,Text summerization\n",
    "\n",
    "from nltk.stem import WordNetLemmatizer"
   ]
  },
  {
   "cell_type": "code",
   "execution_count": 29,
   "id": "98556a55",
   "metadata": {},
   "outputs": [],
   "source": [
    "lemmatizer = WordNetLemmatizer()"
   ]
  },
  {
   "cell_type": "code",
   "execution_count": 33,
   "id": "e5ed2b89",
   "metadata": {},
   "outputs": [
    {
     "data": {
      "text/plain": [
       "'go'"
      ]
     },
     "execution_count": 33,
     "metadata": {},
     "output_type": "execute_result"
    }
   ],
   "source": [
    "# `\"n\"` for nouns,\n",
    "# `\"v\"` for verbs, \n",
    "# `\"a\"` for adjectives, \n",
    "# `\"r\"` for adverbs and `\"s\"\n",
    "lemmatizer.lemmatize('going',pos='v')"
   ]
  },
  {
   "cell_type": "code",
   "execution_count": 34,
   "id": "8c728c7e",
   "metadata": {},
   "outputs": [],
   "source": [
    "words = ['eating','eats','eaten','writing','writes','programming','programs','history','mobile phone','Bottle','Mouse','finally','finalized','Taj Mahal','goes','going','fairly','sportingly','historic']"
   ]
  },
  {
   "cell_type": "code",
   "execution_count": 35,
   "id": "c290d0cb",
   "metadata": {},
   "outputs": [
    {
     "name": "stdout",
     "output_type": "stream",
     "text": [
      "eating----->eat\n",
      "eats----->eat\n",
      "eaten----->eat\n",
      "writing----->write\n",
      "writes----->write\n",
      "programming----->program\n",
      "programs----->program\n",
      "history----->history\n",
      "mobile phone----->mobile phone\n",
      "Bottle----->Bottle\n",
      "Mouse----->Mouse\n",
      "finally----->finally\n",
      "finalized----->finalize\n",
      "Taj Mahal----->Taj Mahal\n",
      "goes----->go\n",
      "going----->go\n",
      "fairly----->fairly\n",
      "sportingly----->sportingly\n",
      "historic----->historic\n"
     ]
    }
   ],
   "source": [
    "for word in words:\n",
    "    print(word+\"----->\"+lemmatizer.lemmatize(word,pos='v'))"
   ]
  },
  {
   "cell_type": "code",
   "execution_count": 43,
   "id": "33c91d1e",
   "metadata": {},
   "outputs": [],
   "source": [
    "paragraph = \"\"\"\n",
    "          I am indeed delighted to be in the midst of the \n",
    "honorable members of the European Parliament, in this \n",
    "historic place. When I am with you, I was thinking what \n",
    "thoughts I can share with you.\n",
    "\n",
    "Friends, let me first talk about the development of the \n",
    "European Union. I consider the European Union as one of the \n",
    "most important and pioneering union systems in the world. \n",
    "It has become an example for other regions to follow. \n",
    "I am confident that the European Union will evolve further\n",
    "towards a United States of Europe.\n",
    "\n",
    "The European Union has to be praised for its unique \n",
    "achievement of having all the member countries living \n",
    "in peace, despite having fought many wars in the past. \n",
    "The European Union was born with a vision to build a \n",
    "united and prosperous Europe. The fundamental pillar for \n",
    "this vision is the desire for peace and prosperity for \n",
    "all the people of the Union.\n",
    "\n",
    "When I see Europe as a whole, I see it as a continent \n",
    "that has given birth to many global thoughts of political,\n",
    "economic, and social systems. The time has come for Europe\n",
    "to lead a new mission, the mission of promoting a culture \n",
    "of peace among the world’s nations. This mission should \n",
    "aim to ensure that all nations can live in peace and \n",
    "prosperity.\n",
    "\"\"\""
   ]
  },
  {
   "cell_type": "code",
   "execution_count": 39,
   "id": "57ed77db",
   "metadata": {
    "scrolled": true
   },
   "outputs": [
    {
     "data": {
      "text/plain": [
       "['i',\n",
       " 'me',\n",
       " 'my',\n",
       " 'myself',\n",
       " 'we',\n",
       " 'our',\n",
       " 'ours',\n",
       " 'ourselves',\n",
       " 'you',\n",
       " \"you're\",\n",
       " \"you've\",\n",
       " \"you'll\",\n",
       " \"you'd\",\n",
       " 'your',\n",
       " 'yours',\n",
       " 'yourself',\n",
       " 'yourselves',\n",
       " 'he',\n",
       " 'him',\n",
       " 'his',\n",
       " 'himself',\n",
       " 'she',\n",
       " \"she's\",\n",
       " 'her',\n",
       " 'hers',\n",
       " 'herself',\n",
       " 'it',\n",
       " \"it's\",\n",
       " 'its',\n",
       " 'itself',\n",
       " 'they',\n",
       " 'them',\n",
       " 'their',\n",
       " 'theirs',\n",
       " 'themselves',\n",
       " 'what',\n",
       " 'which',\n",
       " 'who',\n",
       " 'whom',\n",
       " 'this',\n",
       " 'that',\n",
       " \"that'll\",\n",
       " 'these',\n",
       " 'those',\n",
       " 'am',\n",
       " 'is',\n",
       " 'are',\n",
       " 'was',\n",
       " 'were',\n",
       " 'be',\n",
       " 'been',\n",
       " 'being',\n",
       " 'have',\n",
       " 'has',\n",
       " 'had',\n",
       " 'having',\n",
       " 'do',\n",
       " 'does',\n",
       " 'did',\n",
       " 'doing',\n",
       " 'a',\n",
       " 'an',\n",
       " 'the',\n",
       " 'and',\n",
       " 'but',\n",
       " 'if',\n",
       " 'or',\n",
       " 'because',\n",
       " 'as',\n",
       " 'until',\n",
       " 'while',\n",
       " 'of',\n",
       " 'at',\n",
       " 'by',\n",
       " 'for',\n",
       " 'with',\n",
       " 'about',\n",
       " 'against',\n",
       " 'between',\n",
       " 'into',\n",
       " 'through',\n",
       " 'during',\n",
       " 'before',\n",
       " 'after',\n",
       " 'above',\n",
       " 'below',\n",
       " 'to',\n",
       " 'from',\n",
       " 'up',\n",
       " 'down',\n",
       " 'in',\n",
       " 'out',\n",
       " 'on',\n",
       " 'off',\n",
       " 'over',\n",
       " 'under',\n",
       " 'again',\n",
       " 'further',\n",
       " 'then',\n",
       " 'once',\n",
       " 'here',\n",
       " 'there',\n",
       " 'when',\n",
       " 'where',\n",
       " 'why',\n",
       " 'how',\n",
       " 'all',\n",
       " 'any',\n",
       " 'both',\n",
       " 'each',\n",
       " 'few',\n",
       " 'more',\n",
       " 'most',\n",
       " 'other',\n",
       " 'some',\n",
       " 'such',\n",
       " 'no',\n",
       " 'nor',\n",
       " 'not',\n",
       " 'only',\n",
       " 'own',\n",
       " 'same',\n",
       " 'so',\n",
       " 'than',\n",
       " 'too',\n",
       " 'very',\n",
       " 's',\n",
       " 't',\n",
       " 'can',\n",
       " 'will',\n",
       " 'just',\n",
       " 'don',\n",
       " \"don't\",\n",
       " 'should',\n",
       " \"should've\",\n",
       " 'now',\n",
       " 'd',\n",
       " 'll',\n",
       " 'm',\n",
       " 'o',\n",
       " 're',\n",
       " 've',\n",
       " 'y',\n",
       " 'ain',\n",
       " 'aren',\n",
       " \"aren't\",\n",
       " 'couldn',\n",
       " \"couldn't\",\n",
       " 'didn',\n",
       " \"didn't\",\n",
       " 'doesn',\n",
       " \"doesn't\",\n",
       " 'hadn',\n",
       " \"hadn't\",\n",
       " 'hasn',\n",
       " \"hasn't\",\n",
       " 'haven',\n",
       " \"haven't\",\n",
       " 'isn',\n",
       " \"isn't\",\n",
       " 'ma',\n",
       " 'mightn',\n",
       " \"mightn't\",\n",
       " 'mustn',\n",
       " \"mustn't\",\n",
       " 'needn',\n",
       " \"needn't\",\n",
       " 'shan',\n",
       " \"shan't\",\n",
       " 'shouldn',\n",
       " \"shouldn't\",\n",
       " 'wasn',\n",
       " \"wasn't\",\n",
       " 'weren',\n",
       " \"weren't\",\n",
       " 'won',\n",
       " \"won't\",\n",
       " 'wouldn',\n",
       " \"wouldn't\"]"
      ]
     },
     "execution_count": 39,
     "metadata": {},
     "output_type": "execute_result"
    }
   ],
   "source": [
    "from nltk.corpus import stopwords\n",
    "stopwords.words('english')"
   ]
  },
  {
   "cell_type": "code",
   "execution_count": 40,
   "id": "368e269d",
   "metadata": {},
   "outputs": [
    {
     "data": {
      "text/plain": [
       "['\\n          I am indeed delighted to be in the midst of the \\nhonorable members of the European Parliament, in this \\nhistoric place.',\n",
       " 'When I am with you, I was thinking what \\nthoughts I can share with you.',\n",
       " 'Friends, let me first talk about the development of the \\nEuropean Union.',\n",
       " 'I consider the European Union as one of the \\nmost important and pioneering union systems in the world.',\n",
       " 'It has become an example for other regions to follow.',\n",
       " 'I am confident that the European Union will evolve further\\ntowards a United States of Europe.',\n",
       " 'The European Union has to be praised for its unique \\nachievement of having all the member countries living \\nin peace, despite having fought many wars in the past.',\n",
       " 'The European Union was born with a vision to build a \\nunited and prosperous Europe.',\n",
       " 'The fundamental pillar for \\nthis vision is the desire for peace and prosperity for \\nall the people of the Union.',\n",
       " 'When I see Europe as a whole, I see it as a continent \\nthat has given birth to many global thoughts of political,\\neconomic, and social systems.',\n",
       " 'The time has come for Europe\\nto lead a new mission, the mission of promoting a culture \\nof peace among the world’s nations.',\n",
       " 'This mission should \\naim to ensure that all nations can live in peace and \\nprosperity.']"
      ]
     },
     "execution_count": 40,
     "metadata": {},
     "output_type": "execute_result"
    }
   ],
   "source": [
    "sentences = nltk.sent_tokenize(paragraph)\n",
    "sentences"
   ]
  },
  {
   "cell_type": "code",
   "execution_count": 41,
   "id": "7750fe39",
   "metadata": {},
   "outputs": [],
   "source": [
    "for i in range(len(sentences)):\n",
    "    words = nltk.word_tokenize(sentences[i])\n",
    "    words = [lemmatizer.lemmatize(word) for word in words if word not in set(stopwords.words('english'))]\n",
    "    sentences[i] = ' '.join(words)"
   ]
  },
  {
   "cell_type": "code",
   "execution_count": 42,
   "id": "58d1aa9e",
   "metadata": {},
   "outputs": [
    {
     "data": {
      "text/plain": [
       "['I indeed delighted midst honorable member European Parliament , historic place .',\n",
       " 'When I , I thinking thought I share .',\n",
       " 'Friends , let first talk development European Union .',\n",
       " 'I consider European Union one important pioneering union system world .',\n",
       " 'It become example region follow .',\n",
       " 'I confident European Union evolve towards United States Europe .',\n",
       " 'The European Union praised unique achievement member country living peace , despite fought many war past .',\n",
       " 'The European Union born vision build united prosperous Europe .',\n",
       " 'The fundamental pillar vision desire peace prosperity people Union .',\n",
       " 'When I see Europe whole , I see continent given birth many global thought political , economic , social system .',\n",
       " 'The time come Europe lead new mission , mission promoting culture peace among world ’ nation .',\n",
       " 'This mission aim ensure nation live peace prosperity .']"
      ]
     },
     "execution_count": 42,
     "metadata": {},
     "output_type": "execute_result"
    }
   ],
   "source": [
    "sentences"
   ]
  },
  {
   "cell_type": "code",
   "execution_count": null,
   "id": "9eb48eb7",
   "metadata": {},
   "outputs": [],
   "source": []
  }
 ],
 "metadata": {
  "kernelspec": {
   "display_name": "Python 3 (ipykernel)",
   "language": "python",
   "name": "python3"
  },
  "language_info": {
   "codemirror_mode": {
    "name": "ipython",
    "version": 3
   },
   "file_extension": ".py",
   "mimetype": "text/x-python",
   "name": "python",
   "nbconvert_exporter": "python",
   "pygments_lexer": "ipython3",
   "version": "3.9.13"
  }
 },
 "nbformat": 4,
 "nbformat_minor": 5
}
