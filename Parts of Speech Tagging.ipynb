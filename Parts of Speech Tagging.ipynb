{
 "cells": [
  {
   "cell_type": "markdown",
   "id": "2b77f433",
   "metadata": {},
   "source": [
    "## Parts of Speech"
   ]
  },
  {
   "cell_type": "raw",
   "id": "c26123e2",
   "metadata": {},
   "source": [
    "CC coordinating conjunction \n",
    "CD cardinal digit \n",
    "DT determiner \n",
    "EX existential there (like: “there is” … think of it like “there exists”) \n",
    "FW foreign word \n",
    "IN preposition/subordinating conjunction \n",
    "JJ adjective – ‘big’ \n",
    "JJR adjective, comparative – ‘bigger’ \n",
    "JJS adjective, superlative – ‘biggest’ \n",
    "LS list marker 1) \n",
    "MD modal – could, will \n",
    "NN noun, singular ‘- desk’ \n",
    "NNS noun plural – ‘desks’ \n",
    "NNP proper noun, singular – ‘Harrison’ \n",
    "NNPS proper noun, plural – ‘Americans’ \n",
    "PDT predeterminer – ‘all the kids’ \n",
    "POS possessive ending parent’s \n",
    "PRP personal pronoun –  I, he, she \n",
    "PRP$ possessive pronoun – my, his, hers \n",
    "RB adverb – very, silently, \n",
    "RBR adverb, comparative – better \n",
    "RBS adverb, superlative – best \n",
    "RP particle – give up \n",
    "TO – to go ‘to’ the store. \n",
    "UH interjection – errrrrrrrm \n",
    "VB verb, base form – take \n",
    "VBD verb, past tense – took \n",
    "VBG verb, gerund/present participle – taking \n",
    "VBN verb, past participle – taken \n",
    "VBP verb, sing. present, non-3d – take \n",
    "VBZ verb, 3rd person sing. present – takes \n",
    "WDT wh-determiner – which \n",
    "WP wh-pronoun – who, what \n",
    "WP$ possessive wh-pronoun, eg- whose \n",
    "WRB wh-adverb, eg- where, when"
   ]
  },
  {
   "cell_type": "code",
   "execution_count": 1,
   "id": "06685dca",
   "metadata": {},
   "outputs": [],
   "source": [
    "from nltk.stem import WordNetLemmatizer"
   ]
  },
  {
   "cell_type": "code",
   "execution_count": 2,
   "id": "05db07c5",
   "metadata": {},
   "outputs": [],
   "source": [
    "lemmatizer = WordNetLemmatizer()"
   ]
  },
  {
   "cell_type": "code",
   "execution_count": 6,
   "id": "c2c17a3d",
   "metadata": {},
   "outputs": [],
   "source": [
    "paragraph = \"\"\"\n",
    "          I am indeed delighted to be in the midst of the \n",
    "honorable members of the European Parliament, in this \n",
    "historic place. When I am with you, I was thinking what \n",
    "thoughts I can share with you.\n",
    "Friends, let me first talk about the development of the \n",
    "European Union. I consider the European Union as one of the \n",
    "most important and pioneering union systems in the world. \n",
    "It has become an example for other regions to follow. \n",
    "I am confident that the European Union will evolve further\n",
    "towards a United States of Europe.\n",
    "The European Union has to be praised for its unique \n",
    "achievement of having all the member countries living \n",
    "in peace, despite having fought many wars in the past. \n",
    "The European Union was born with a vision to build a \n",
    "united and prosperous Europe. The fundamental pillar for \n",
    "this vision is the desire for peace and prosperity for \n",
    "all the people of the Union.\n",
    "When I see Europe as a whole, I see it as a continent \n",
    "that has given birth to many global thoughts of political,\n",
    "economic, and social systems. The time has come for Europe\n",
    "to lead a new mission, the mission of promoting a culture \n",
    "of peace among the world’s nations. This mission should \n",
    "aim to ensure that all nations can live in peace and \n",
    "prosperity.\n",
    "\"\"\""
   ]
  },
  {
   "cell_type": "code",
   "execution_count": 7,
   "id": "459705ff",
   "metadata": {},
   "outputs": [],
   "source": [
    "from nltk.tokenize import sent_tokenize\n",
    "sentences = nltk.sent_tokenize(paragraph)"
   ]
  },
  {
   "cell_type": "code",
   "execution_count": 8,
   "id": "08e6b3c4",
   "metadata": {},
   "outputs": [
    {
     "data": {
      "text/plain": [
       "['\\n          I am indeed delighted to be in the midst of the \\nhonorable members of the European Parliament, in this \\nhistoric place.',\n",
       " 'When I am with you, I was thinking what \\nthoughts I can share with you.',\n",
       " 'Friends, let me first talk about the development of the \\nEuropean Union.',\n",
       " 'I consider the European Union as one of the \\nmost important and pioneering union systems in the world.',\n",
       " 'It has become an example for other regions to follow.',\n",
       " 'I am confident that the European Union will evolve further\\ntowards a United States of Europe.',\n",
       " 'The European Union has to be praised for its unique \\nachievement of having all the member countries living \\nin peace, despite having fought many wars in the past.',\n",
       " 'The European Union was born with a vision to build a \\nunited and prosperous Europe.',\n",
       " 'The fundamental pillar for \\nthis vision is the desire for peace and prosperity for \\nall the people of the Union.',\n",
       " 'When I see Europe as a whole, I see it as a continent \\nthat has given birth to many global thoughts of political,\\neconomic, and social systems.',\n",
       " 'The time has come for Europe\\nto lead a new mission, the mission of promoting a culture \\nof peace among the world’s nations.',\n",
       " 'This mission should \\naim to ensure that all nations can live in peace and \\nprosperity.']"
      ]
     },
     "execution_count": 8,
     "metadata": {},
     "output_type": "execute_result"
    }
   ],
   "source": [
    "sentences"
   ]
  },
  {
   "cell_type": "code",
   "execution_count": 10,
   "id": "e4d0337e",
   "metadata": {
    "scrolled": true
   },
   "outputs": [
    {
     "data": {
      "text/plain": [
       "['i',\n",
       " 'me',\n",
       " 'my',\n",
       " 'myself',\n",
       " 'we',\n",
       " 'our',\n",
       " 'ours',\n",
       " 'ourselves',\n",
       " 'you',\n",
       " \"you're\",\n",
       " \"you've\",\n",
       " \"you'll\",\n",
       " \"you'd\",\n",
       " 'your',\n",
       " 'yours',\n",
       " 'yourself',\n",
       " 'yourselves',\n",
       " 'he',\n",
       " 'him',\n",
       " 'his',\n",
       " 'himself',\n",
       " 'she',\n",
       " \"she's\",\n",
       " 'her',\n",
       " 'hers',\n",
       " 'herself',\n",
       " 'it',\n",
       " \"it's\",\n",
       " 'its',\n",
       " 'itself',\n",
       " 'they',\n",
       " 'them',\n",
       " 'their',\n",
       " 'theirs',\n",
       " 'themselves',\n",
       " 'what',\n",
       " 'which',\n",
       " 'who',\n",
       " 'whom',\n",
       " 'this',\n",
       " 'that',\n",
       " \"that'll\",\n",
       " 'these',\n",
       " 'those',\n",
       " 'am',\n",
       " 'is',\n",
       " 'are',\n",
       " 'was',\n",
       " 'were',\n",
       " 'be',\n",
       " 'been',\n",
       " 'being',\n",
       " 'have',\n",
       " 'has',\n",
       " 'had',\n",
       " 'having',\n",
       " 'do',\n",
       " 'does',\n",
       " 'did',\n",
       " 'doing',\n",
       " 'a',\n",
       " 'an',\n",
       " 'the',\n",
       " 'and',\n",
       " 'but',\n",
       " 'if',\n",
       " 'or',\n",
       " 'because',\n",
       " 'as',\n",
       " 'until',\n",
       " 'while',\n",
       " 'of',\n",
       " 'at',\n",
       " 'by',\n",
       " 'for',\n",
       " 'with',\n",
       " 'about',\n",
       " 'against',\n",
       " 'between',\n",
       " 'into',\n",
       " 'through',\n",
       " 'during',\n",
       " 'before',\n",
       " 'after',\n",
       " 'above',\n",
       " 'below',\n",
       " 'to',\n",
       " 'from',\n",
       " 'up',\n",
       " 'down',\n",
       " 'in',\n",
       " 'out',\n",
       " 'on',\n",
       " 'off',\n",
       " 'over',\n",
       " 'under',\n",
       " 'again',\n",
       " 'further',\n",
       " 'then',\n",
       " 'once',\n",
       " 'here',\n",
       " 'there',\n",
       " 'when',\n",
       " 'where',\n",
       " 'why',\n",
       " 'how',\n",
       " 'all',\n",
       " 'any',\n",
       " 'both',\n",
       " 'each',\n",
       " 'few',\n",
       " 'more',\n",
       " 'most',\n",
       " 'other',\n",
       " 'some',\n",
       " 'such',\n",
       " 'no',\n",
       " 'nor',\n",
       " 'not',\n",
       " 'only',\n",
       " 'own',\n",
       " 'same',\n",
       " 'so',\n",
       " 'than',\n",
       " 'too',\n",
       " 'very',\n",
       " 's',\n",
       " 't',\n",
       " 'can',\n",
       " 'will',\n",
       " 'just',\n",
       " 'don',\n",
       " \"don't\",\n",
       " 'should',\n",
       " \"should've\",\n",
       " 'now',\n",
       " 'd',\n",
       " 'll',\n",
       " 'm',\n",
       " 'o',\n",
       " 're',\n",
       " 've',\n",
       " 'y',\n",
       " 'ain',\n",
       " 'aren',\n",
       " \"aren't\",\n",
       " 'couldn',\n",
       " \"couldn't\",\n",
       " 'didn',\n",
       " \"didn't\",\n",
       " 'doesn',\n",
       " \"doesn't\",\n",
       " 'hadn',\n",
       " \"hadn't\",\n",
       " 'hasn',\n",
       " \"hasn't\",\n",
       " 'haven',\n",
       " \"haven't\",\n",
       " 'isn',\n",
       " \"isn't\",\n",
       " 'ma',\n",
       " 'mightn',\n",
       " \"mightn't\",\n",
       " 'mustn',\n",
       " \"mustn't\",\n",
       " 'needn',\n",
       " \"needn't\",\n",
       " 'shan',\n",
       " \"shan't\",\n",
       " 'shouldn',\n",
       " \"shouldn't\",\n",
       " 'wasn',\n",
       " \"wasn't\",\n",
       " 'weren',\n",
       " \"weren't\",\n",
       " 'won',\n",
       " \"won't\",\n",
       " 'wouldn',\n",
       " \"wouldn't\"]"
      ]
     },
     "execution_count": 10,
     "metadata": {},
     "output_type": "execute_result"
    }
   ],
   "source": [
    "from nltk.corpus import stopwords\n",
    "stopwords.words('english')"
   ]
  },
  {
   "cell_type": "code",
   "execution_count": 13,
   "id": "fbe2cd56",
   "metadata": {},
   "outputs": [
    {
     "name": "stderr",
     "output_type": "stream",
     "text": [
      "[nltk_data] Downloading package averaged_perceptron_tagger to\n",
      "[nltk_data]     C:\\Users\\Rishi\\AppData\\Roaming\\nltk_data...\n",
      "[nltk_data]   Unzipping taggers\\averaged_perceptron_tagger.zip.\n"
     ]
    },
    {
     "data": {
      "text/plain": [
       "True"
      ]
     },
     "execution_count": 13,
     "metadata": {},
     "output_type": "execute_result"
    }
   ],
   "source": [
    "nltk.download('averaged_perceptron_tagger')"
   ]
  },
  {
   "cell_type": "code",
   "execution_count": 14,
   "id": "d052d334",
   "metadata": {},
   "outputs": [
    {
     "name": "stdout",
     "output_type": "stream",
     "text": [
      "[('I', 'PRP'), ('indeed', 'RB'), ('delighted', 'VBD'), ('midst', 'NN'), ('honorable', 'JJ'), ('members', 'NNS'), ('European', 'JJ'), ('Parliament', 'NNP'), (',', ','), ('historic', 'JJ'), ('place', 'NN'), ('.', '.')]\n",
      "[('When', 'WRB'), ('I', 'PRP'), (',', ','), ('I', 'PRP'), ('thinking', 'VBG'), ('thoughts', 'NNS'), ('I', 'PRP'), ('share', 'NN'), ('.', '.')]\n",
      "[('Friends', 'NNS'), (',', ','), ('let', 'VB'), ('first', 'JJ'), ('talk', 'VB'), ('development', 'NN'), ('European', 'NNP'), ('Union', 'NNP'), ('.', '.')]\n",
      "[('I', 'PRP'), ('consider', 'VBP'), ('European', 'JJ'), ('Union', 'NNP'), ('one', 'CD'), ('important', 'JJ'), ('pioneering', 'VBG'), ('union', 'NN'), ('systems', 'NNS'), ('world', 'NN'), ('.', '.')]\n",
      "[('It', 'PRP'), ('become', 'VBP'), ('example', 'NN'), ('regions', 'NNS'), ('follow', 'VBP'), ('.', '.')]\n",
      "[('I', 'PRP'), ('confident', 'JJ'), ('European', 'JJ'), ('Union', 'NNP'), ('evolve', 'NN'), ('towards', 'NNS'), ('United', 'NNP'), ('States', 'NNPS'), ('Europe', 'NNP'), ('.', '.')]\n",
      "[('The', 'DT'), ('European', 'NNP'), ('Union', 'NNP'), ('praised', 'VBD'), ('unique', 'JJ'), ('achievement', 'JJ'), ('member', 'NN'), ('countries', 'NNS'), ('living', 'VBG'), ('peace', 'NN'), (',', ','), ('despite', 'IN'), ('fought', 'JJ'), ('many', 'JJ'), ('wars', 'NNS'), ('past', 'IN'), ('.', '.')]\n",
      "[('The', 'DT'), ('European', 'NNP'), ('Union', 'NNP'), ('born', 'POS'), ('vision', 'NN'), ('build', 'NN'), ('united', 'VBD'), ('prosperous', 'JJ'), ('Europe', 'NNP'), ('.', '.')]\n",
      "[('The', 'DT'), ('fundamental', 'JJ'), ('pillar', 'JJ'), ('vision', 'NN'), ('desire', 'NN'), ('peace', 'NN'), ('prosperity', 'NN'), ('people', 'NNS'), ('Union', 'NNP'), ('.', '.')]\n",
      "[('When', 'WRB'), ('I', 'PRP'), ('see', 'VBP'), ('Europe', 'NNP'), ('whole', 'NN'), (',', ','), ('I', 'PRP'), ('see', 'VBP'), ('continent', 'JJ'), ('given', 'VBN'), ('birth', 'NN'), ('many', 'JJ'), ('global', 'JJ'), ('thoughts', 'NNS'), ('political', 'JJ'), (',', ','), ('economic', 'JJ'), (',', ','), ('social', 'JJ'), ('systems', 'NNS'), ('.', '.')]\n",
      "[('The', 'DT'), ('time', 'NN'), ('come', 'VBN'), ('Europe', 'NNP'), ('lead', 'VBP'), ('new', 'JJ'), ('mission', 'NN'), (',', ','), ('mission', 'NN'), ('promoting', 'VBG'), ('culture', 'NN'), ('peace', 'NN'), ('among', 'IN'), ('world', 'NN'), ('’', 'NN'), ('nations', 'NNS'), ('.', '.')]\n",
      "[('This', 'DT'), ('mission', 'NN'), ('aim', 'NN'), ('ensure', 'VB'), ('nations', 'NNS'), ('live', 'VBP'), ('peace', 'NN'), ('prosperity', 'NN'), ('.', '.')]\n"
     ]
    }
   ],
   "source": [
    "## we will find the pos Tag\n",
    "\n",
    "for i in range(len(sentences)):\n",
    "    words=nltk.word_tokenize(sentences[i])\n",
    "    words = [word for word in words if word not in set(stopwords.words('english'))]\n",
    "    pos_tag = nltk.pos_tag(words)\n",
    "    print(pos_tag)"
   ]
  },
  {
   "cell_type": "code",
   "execution_count": 15,
   "id": "081a9667",
   "metadata": {},
   "outputs": [
    {
     "name": "stdout",
     "output_type": "stream",
     "text": [
      "[('Taj', 'NNP'), ('mahal', 'NN'), ('is', 'VBZ'), ('a', 'DT'), ('buaultiful', 'JJ'), ('monument', 'NN')]\n"
     ]
    }
   ],
   "source": [
    "print(nltk.pos_tag(\"Taj mahal is a buaultiful monument\".split()))"
   ]
  },
  {
   "cell_type": "code",
   "execution_count": null,
   "id": "596a463d",
   "metadata": {},
   "outputs": [],
   "source": []
  }
 ],
 "metadata": {
  "kernelspec": {
   "display_name": "Python 3 (ipykernel)",
   "language": "python",
   "name": "python3"
  },
  "language_info": {
   "codemirror_mode": {
    "name": "ipython",
    "version": 3
   },
   "file_extension": ".py",
   "mimetype": "text/x-python",
   "name": "python",
   "nbconvert_exporter": "python",
   "pygments_lexer": "ipython3",
   "version": "3.9.13"
  }
 },
 "nbformat": 4,
 "nbformat_minor": 5
}
