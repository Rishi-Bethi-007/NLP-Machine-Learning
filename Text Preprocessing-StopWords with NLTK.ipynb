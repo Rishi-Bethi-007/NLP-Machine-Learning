{
 "cells": [
  {
   "cell_type": "code",
   "execution_count": 54,
   "id": "b17600b1",
   "metadata": {},
   "outputs": [],
   "source": [
    "paragraph = \"\"\"\n",
    "          I am indeed delighted to be in the midst of the \n",
    "honorable members of the European Parliament, in this \n",
    "historic place. When I am with you, I was thinking what \n",
    "thoughts I can share with you.\n",
    "\n",
    "Friends, let me first talk about the development of the \n",
    "European Union. I consider the European Union as one of the \n",
    "most important and pioneering union systems in the world. \n",
    "It has become an example for other regions to follow. \n",
    "I am confident that the European Union will evolve further\n",
    "towards a United States of Europe.\n",
    "\n",
    "The European Union has to be praised for its unique \n",
    "achievement of having all the member countries living \n",
    "in peace, despite having fought many wars in the past. \n",
    "The European Union was born with a vision to build a \n",
    "united and prosperous Europe. The fundamental pillar for \n",
    "this vision is the desire for peace and prosperity for \n",
    "all the people of the Union.\n",
    "\n",
    "When I see Europe as a whole, I see it as a continent \n",
    "that has given birth to many global thoughts of political,\n",
    "economic, and social systems. The time has come for Europe\n",
    "to lead a new mission, the mission of promoting a culture \n",
    "of peace among the world’s nations. This mission should \n",
    "aim to ensure that all nations can live in peace and \n",
    "prosperity.\n",
    "\"\"\""
   ]
  },
  {
   "cell_type": "code",
   "execution_count": 55,
   "id": "dea164eb",
   "metadata": {},
   "outputs": [],
   "source": [
    "from nltk.stem import PorterStemmer"
   ]
  },
  {
   "cell_type": "code",
   "execution_count": 56,
   "id": "435be96d",
   "metadata": {},
   "outputs": [],
   "source": [
    "from nltk.corpus import stopwords"
   ]
  },
  {
   "cell_type": "code",
   "execution_count": 57,
   "id": "cc8b4d27",
   "metadata": {},
   "outputs": [
    {
     "name": "stderr",
     "output_type": "stream",
     "text": [
      "[nltk_data] Downloading package stopwords to\n",
      "[nltk_data]     C:\\Users\\Rishi\\AppData\\Roaming\\nltk_data...\n",
      "[nltk_data]   Package stopwords is already up-to-date!\n"
     ]
    },
    {
     "data": {
      "text/plain": [
       "True"
      ]
     },
     "execution_count": 57,
     "metadata": {},
     "output_type": "execute_result"
    }
   ],
   "source": [
    "import nltk\n",
    "nltk.download('stopwords')"
   ]
  },
  {
   "cell_type": "code",
   "execution_count": 58,
   "id": "83378ccc",
   "metadata": {},
   "outputs": [
    {
     "data": {
      "text/plain": [
       "['i',\n",
       " 'me',\n",
       " 'my',\n",
       " 'myself',\n",
       " 'we',\n",
       " 'our',\n",
       " 'ours',\n",
       " 'ourselves',\n",
       " 'you',\n",
       " \"you're\",\n",
       " \"you've\",\n",
       " \"you'll\",\n",
       " \"you'd\",\n",
       " 'your',\n",
       " 'yours',\n",
       " 'yourself',\n",
       " 'yourselves',\n",
       " 'he',\n",
       " 'him',\n",
       " 'his',\n",
       " 'himself',\n",
       " 'she',\n",
       " \"she's\",\n",
       " 'her',\n",
       " 'hers',\n",
       " 'herself',\n",
       " 'it',\n",
       " \"it's\",\n",
       " 'its',\n",
       " 'itself',\n",
       " 'they',\n",
       " 'them',\n",
       " 'their',\n",
       " 'theirs',\n",
       " 'themselves',\n",
       " 'what',\n",
       " 'which',\n",
       " 'who',\n",
       " 'whom',\n",
       " 'this',\n",
       " 'that',\n",
       " \"that'll\",\n",
       " 'these',\n",
       " 'those',\n",
       " 'am',\n",
       " 'is',\n",
       " 'are',\n",
       " 'was',\n",
       " 'were',\n",
       " 'be',\n",
       " 'been',\n",
       " 'being',\n",
       " 'have',\n",
       " 'has',\n",
       " 'had',\n",
       " 'having',\n",
       " 'do',\n",
       " 'does',\n",
       " 'did',\n",
       " 'doing',\n",
       " 'a',\n",
       " 'an',\n",
       " 'the',\n",
       " 'and',\n",
       " 'but',\n",
       " 'if',\n",
       " 'or',\n",
       " 'because',\n",
       " 'as',\n",
       " 'until',\n",
       " 'while',\n",
       " 'of',\n",
       " 'at',\n",
       " 'by',\n",
       " 'for',\n",
       " 'with',\n",
       " 'about',\n",
       " 'against',\n",
       " 'between',\n",
       " 'into',\n",
       " 'through',\n",
       " 'during',\n",
       " 'before',\n",
       " 'after',\n",
       " 'above',\n",
       " 'below',\n",
       " 'to',\n",
       " 'from',\n",
       " 'up',\n",
       " 'down',\n",
       " 'in',\n",
       " 'out',\n",
       " 'on',\n",
       " 'off',\n",
       " 'over',\n",
       " 'under',\n",
       " 'again',\n",
       " 'further',\n",
       " 'then',\n",
       " 'once',\n",
       " 'here',\n",
       " 'there',\n",
       " 'when',\n",
       " 'where',\n",
       " 'why',\n",
       " 'how',\n",
       " 'all',\n",
       " 'any',\n",
       " 'both',\n",
       " 'each',\n",
       " 'few',\n",
       " 'more',\n",
       " 'most',\n",
       " 'other',\n",
       " 'some',\n",
       " 'such',\n",
       " 'no',\n",
       " 'nor',\n",
       " 'not',\n",
       " 'only',\n",
       " 'own',\n",
       " 'same',\n",
       " 'so',\n",
       " 'than',\n",
       " 'too',\n",
       " 'very',\n",
       " 's',\n",
       " 't',\n",
       " 'can',\n",
       " 'will',\n",
       " 'just',\n",
       " 'don',\n",
       " \"don't\",\n",
       " 'should',\n",
       " \"should've\",\n",
       " 'now',\n",
       " 'd',\n",
       " 'll',\n",
       " 'm',\n",
       " 'o',\n",
       " 're',\n",
       " 've',\n",
       " 'y',\n",
       " 'ain',\n",
       " 'aren',\n",
       " \"aren't\",\n",
       " 'couldn',\n",
       " \"couldn't\",\n",
       " 'didn',\n",
       " \"didn't\",\n",
       " 'doesn',\n",
       " \"doesn't\",\n",
       " 'hadn',\n",
       " \"hadn't\",\n",
       " 'hasn',\n",
       " \"hasn't\",\n",
       " 'haven',\n",
       " \"haven't\",\n",
       " 'isn',\n",
       " \"isn't\",\n",
       " 'ma',\n",
       " 'mightn',\n",
       " \"mightn't\",\n",
       " 'mustn',\n",
       " \"mustn't\",\n",
       " 'needn',\n",
       " \"needn't\",\n",
       " 'shan',\n",
       " \"shan't\",\n",
       " 'shouldn',\n",
       " \"shouldn't\",\n",
       " 'wasn',\n",
       " \"wasn't\",\n",
       " 'weren',\n",
       " \"weren't\",\n",
       " 'won',\n",
       " \"won't\",\n",
       " 'wouldn',\n",
       " \"wouldn't\"]"
      ]
     },
     "execution_count": 58,
     "metadata": {},
     "output_type": "execute_result"
    }
   ],
   "source": [
    "stopwords.words('english')"
   ]
  },
  {
   "cell_type": "code",
   "execution_count": 59,
   "id": "ca6c6f17",
   "metadata": {},
   "outputs": [],
   "source": [
    "from nltk.stem import PorterStemmer"
   ]
  },
  {
   "cell_type": "code",
   "execution_count": 60,
   "id": "b38d14c4",
   "metadata": {},
   "outputs": [],
   "source": [
    "stemmer = PorterStemmer()"
   ]
  },
  {
   "cell_type": "code",
   "execution_count": 73,
   "id": "cb0d70c4",
   "metadata": {},
   "outputs": [
    {
     "data": {
      "text/plain": [
       "['\\n          I am indeed delighted to be in the midst of the \\nhonorable members of the European Parliament, in this \\nhistoric place.',\n",
       " 'When I am with you, I was thinking what \\nthoughts I can share with you.',\n",
       " 'Friends, let me first talk about the development of the \\nEuropean Union.',\n",
       " 'I consider the European Union as one of the \\nmost important and pioneering union systems in the world.',\n",
       " 'It has become an example for other regions to follow.',\n",
       " 'I am confident that the European Union will evolve further\\ntowards a United States of Europe.',\n",
       " 'The European Union has to be praised for its unique \\nachievement of having all the member countries living \\nin peace, despite having fought many wars in the past.',\n",
       " 'The European Union was born with a vision to build a \\nunited and prosperous Europe.',\n",
       " 'The fundamental pillar for \\nthis vision is the desire for peace and prosperity for \\nall the people of the Union.',\n",
       " 'When I see Europe as a whole, I see it as a continent \\nthat has given birth to many global thoughts of political,\\neconomic, and social systems.',\n",
       " 'The time has come for Europe\\nto lead a new mission, the mission of promoting a culture \\nof peace among the world’s nations.',\n",
       " 'This mission should \\naim to ensure that all nations can live in peace and \\nprosperity.']"
      ]
     },
     "execution_count": 73,
     "metadata": {},
     "output_type": "execute_result"
    }
   ],
   "source": [
    "sentences = nltk.sent_tokenize(paragraph)\n",
    "sentences"
   ]
  },
  {
   "cell_type": "code",
   "execution_count": 62,
   "id": "b88640fb",
   "metadata": {},
   "outputs": [
    {
     "data": {
      "text/plain": [
       "['When',\n",
       " 'I',\n",
       " 'am',\n",
       " 'with',\n",
       " 'you',\n",
       " ',',\n",
       " 'I',\n",
       " 'was',\n",
       " 'thinking',\n",
       " 'what',\n",
       " 'thoughts',\n",
       " 'I',\n",
       " 'can',\n",
       " 'share',\n",
       " 'with',\n",
       " 'you',\n",
       " '.']"
      ]
     },
     "execution_count": 62,
     "metadata": {},
     "output_type": "execute_result"
    }
   ],
   "source": [
    "nltk.word_tokenize(sentences[1])"
   ]
  },
  {
   "cell_type": "code",
   "execution_count": 63,
   "id": "ee21a93d",
   "metadata": {},
   "outputs": [],
   "source": [
    "#Apply stopwords and filter and then apply steeming\n",
    "\n",
    "for i in range(len(sentences)):\n",
    "    words = nltk.word_tokenize(sentences[i])\n",
    "    words = [stemmer.stem(word) for word in words if word not in set(stopwords.words('english'))]\n",
    "    sentences[i] = ' '.join(words)"
   ]
  },
  {
   "cell_type": "code",
   "execution_count": 64,
   "id": "37ae4a07",
   "metadata": {},
   "outputs": [
    {
     "data": {
      "text/plain": [
       "['i inde delight midst honor member european parliament , histor place .',\n",
       " 'when i , i think thought i share .',\n",
       " 'friend , let first talk develop european union .',\n",
       " 'i consid european union one import pioneer union system world .',\n",
       " 'it becom exampl region follow .',\n",
       " 'i confid european union evolv toward unit state europ .',\n",
       " 'the european union prais uniqu achiev member countri live peac , despit fought mani war past .',\n",
       " 'the european union born vision build unit prosper europ .',\n",
       " 'the fundament pillar vision desir peac prosper peopl union .',\n",
       " 'when i see europ whole , i see contin given birth mani global thought polit , econom , social system .',\n",
       " 'the time come europ lead new mission , mission promot cultur peac among world ’ nation .',\n",
       " 'thi mission aim ensur nation live peac prosper .']"
      ]
     },
     "execution_count": 64,
     "metadata": {},
     "output_type": "execute_result"
    }
   ],
   "source": [
    "sentences"
   ]
  },
  {
   "cell_type": "code",
   "execution_count": 65,
   "id": "be35230d",
   "metadata": {},
   "outputs": [],
   "source": [
    "from nltk.stem import SnowballStemmer"
   ]
  },
  {
   "cell_type": "code",
   "execution_count": 66,
   "id": "b244672e",
   "metadata": {},
   "outputs": [],
   "source": [
    "snowballstemmer = SnowballStemmer('english')"
   ]
  },
  {
   "cell_type": "code",
   "execution_count": 67,
   "id": "61a619ae",
   "metadata": {},
   "outputs": [],
   "source": [
    "#Apply stopwords and filter and then apply steeming\n",
    "\n",
    "for i in range(len(sentences)):\n",
    "    words = nltk.word_tokenize(sentences[i])\n",
    "    words = [snowballstemmer.stem(word) for word in words if word not in set(stopwords.words('english'))]\n",
    "    sentences[i] = ' '.join(words)"
   ]
  },
  {
   "cell_type": "code",
   "execution_count": 68,
   "id": "998818f8",
   "metadata": {},
   "outputs": [
    {
     "data": {
      "text/plain": [
       "['ind delight midst honor member european parliament , histor place .',\n",
       " ', think thought share .',\n",
       " 'friend , let first talk develop european union .',\n",
       " 'consid european union one import pioneer union system world .',\n",
       " 'becom exampl region follow .',\n",
       " 'confid european union evolv toward unit state europ .',\n",
       " 'european union prai uniqu achiev member countri live peac , despit fought mani war past .',\n",
       " 'european union born vision build unit prosper europ .',\n",
       " 'fundament pillar vision desir peac prosper peopl union .',\n",
       " 'see europ whole , see contin given birth mani global thought polit , econom , social system .',\n",
       " 'time come europ lead new mission , mission promot cultur peac among world ’ nation .',\n",
       " 'thi mission aim ensur nation live peac prosper .']"
      ]
     },
     "execution_count": 68,
     "metadata": {},
     "output_type": "execute_result"
    }
   ],
   "source": [
    "sentences"
   ]
  },
  {
   "cell_type": "code",
   "execution_count": 74,
   "id": "5b5198cf",
   "metadata": {},
   "outputs": [],
   "source": [
    "from nltk.stem import WordNetLemmatizer"
   ]
  },
  {
   "cell_type": "code",
   "execution_count": 75,
   "id": "3d8d9f39",
   "metadata": {},
   "outputs": [],
   "source": [
    "lemmatizer = WordNetLemmatizer()"
   ]
  },
  {
   "cell_type": "code",
   "execution_count": 81,
   "id": "2c3a99e6",
   "metadata": {},
   "outputs": [],
   "source": [
    "for i in range(len(sentences)):\n",
    "    words = nltk.word_tokenize(sentences[i])\n",
    "    words = [lemmatizer.lemmatize(word.lower(),pos='v') for word in words if word not in set(stopwords.words('english'))]\n",
    "    sentences[i] = ' '.join(words)"
   ]
  },
  {
   "cell_type": "code",
   "execution_count": 82,
   "id": "06e4f502",
   "metadata": {},
   "outputs": [
    {
     "data": {
      "text/plain": [
       "['i indeed delight midst honorable member european parliament , historic place .',\n",
       " 'when i , i think think i share .',\n",
       " 'friends , let first talk development european union .',\n",
       " 'i consider european union one important pioneer union system world .',\n",
       " 'it become example region follow .',\n",
       " 'i confident european union evolve towards unite state europe .',\n",
       " 'the european union praise unique achievement member country live peace , despite fight many war past .',\n",
       " 'the european union bear vision build unite prosperous europe .',\n",
       " 'the fundamental pillar vision desire peace prosperity people union .',\n",
       " 'when i see europe whole , i see continent give birth many global think political , economic , social system .',\n",
       " 'the time come europe lead new mission , mission promote culture peace among world ’ nation .',\n",
       " 'this mission aim ensure nation live peace prosperity .']"
      ]
     },
     "execution_count": 82,
     "metadata": {},
     "output_type": "execute_result"
    }
   ],
   "source": [
    "sentences"
   ]
  },
  {
   "cell_type": "code",
   "execution_count": null,
   "id": "e3f0d909",
   "metadata": {},
   "outputs": [],
   "source": []
  }
 ],
 "metadata": {
  "kernelspec": {
   "display_name": "Python 3 (ipykernel)",
   "language": "python",
   "name": "python3"
  },
  "language_info": {
   "codemirror_mode": {
    "name": "ipython",
    "version": 3
   },
   "file_extension": ".py",
   "mimetype": "text/x-python",
   "name": "python",
   "nbconvert_exporter": "python",
   "pygments_lexer": "ipython3",
   "version": "3.9.13"
  }
 },
 "nbformat": 4,
 "nbformat_minor": 5
}
